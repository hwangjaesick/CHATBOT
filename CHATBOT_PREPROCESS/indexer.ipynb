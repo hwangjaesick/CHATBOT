{
 "cells": [
  {
   "cell_type": "code",
   "execution_count": 1,
   "metadata": {},
   "outputs": [],
   "source": [
    "# pip install azure-search-documents==11.6.b4"
   ]
  },
  {
   "cell_type": "code",
   "execution_count": 3,
   "metadata": {},
   "outputs": [],
   "source": [
    "# Import required libraries  \n",
    "import os  \n",
    "import requests  \n",
    "from azure.core.credentials import AzureKeyCredential  \n",
    "from azure.search.documents import SearchClient  \n",
    "from azure.search.documents.indexes import SearchIndexClient, SearchIndexerClient  \n",
    "from azure.search.documents.models import (\n",
    "    QueryAnswerType,\n",
    "    QueryCaptionType,\n",
    "    QueryType,\n",
    "    VectorizedQuery,\n",
    "    VectorFilterMode,    \n",
    ")\n",
    "from azure.search.documents.indexes.models import (  \n",
    " \n",
    "    ExhaustiveKnnParameters,  \n",
    "    ExhaustiveKnnAlgorithmConfiguration,\n",
    "    FieldMapping,  \n",
    "    HnswParameters,  \n",
    "    HnswAlgorithmConfiguration,  \n",
    "    InputFieldMappingEntry,  \n",
    "    OutputFieldMappingEntry,  \n",
    "    SimpleField,\n",
    "    SearchField,  \n",
    "    SearchFieldDataType,  \n",
    "    SearchIndex,  \n",
    "    SearchIndexer,  \n",
    "    SearchIndexerDataContainer,  \n",
    "    SearchIndexerDataSourceConnection,  \n",
    "    SearchIndexerSkillset,  \n",
    "    VectorSearch,  \n",
    "    VectorSearchAlgorithmKind,  \n",
    "    VectorSearchAlgorithmMetric,\n",
    "    VectorSearchProfile,\n",
    "    WebApiSkill,\n",
    "    SearchableField,\n",
    "    \n",
    ")  \n",
    "from IPython.display import Image, display \n",
    "from azure.storage.blob import BlobServiceClient  \n",
    "\n",
    "service_endpoint = \"https://lge-search-prd-service.search.windows.net/\" # cognitive search\n",
    "#index_name = \"testhjs\" # index name+\n",
    "api_version = \"2023-11-01\"\n",
    "key = \"eDGeShKFA1PcpgPDTT1DvgNQ7dPzj2TcRysQBuhoXTAzSeD7kJ32\" #  cognitive search key\n",
    "customSkill_endpoint = \"https://test03984.azurewebsites.net/api/httptrigger2\" # Azure Function Endpoint\n",
    "blob_connection_string = \"DefaultEndpointsProtocol=https;AccountName=lgestorprddocst;AccountKey=Ur9phTNrE90qrDLGmU061Jl2RnA5sNmDH4bYCadwc69UYCBdk4XFhAQKwmRv0+M632PCmggkZZPY+AStnaJKiw==;EndpointSuffix=core.windows.net\" # Storage\n",
    "container_name = \"documents\" # container name / foler name\n",
    "credential = AzureKeyCredential(key)"
   ]
  },
  {
   "cell_type": "code",
   "execution_count": 2,
   "metadata": {},
   "outputs": [],
   "source": [
    "service_endpoint = \"https://lge-search-dev-service.search.windows.net/\" # cognitive search\n",
    "index_name = \"testhjs\" # index name+\n",
    "api_version = \"2023-11-01\"\n",
    "key = \"aMKvczKGaybhbSy1CUFnPKGuzMbgBObCRJATPoyXYFAzSeA27WBx\" #  cognitive search key\n",
    "customSkill_endpoint = \"https://test03984.azurewebsites.net/api/httptrigger2\" # Azure Function Endpoint\n",
    "blob_connection_string = \"DefaultEndpointsProtocol=https;AccountName=lgeccsstorage;AccountKey=ipOLPwVxRTbng6kodSYLfPEv854wvppm1hMWeP2ISy0koXWxo0OSWtG5a5TcxafHnkWiWRYiVqeE+AStfAX6AQ==;EndpointSuffix=core.windows.net\"\n",
    "container_name = \"preprocessed-data\" # container name / foler name\n",
    "credential = AzureKeyCredential(key)"
   ]
  },
  {
   "attachments": {},
   "cell_type": "markdown",
   "metadata": {},
   "source": [
    "# Connect to Blob Storage\n",
    "\n",
    "Retreive your images from Blob Storage"
   ]
  },
  {
   "cell_type": "code",
   "execution_count": 25,
   "metadata": {},
   "outputs": [],
   "source": [
    "# # Connect to Blob Storage\n",
    "# blob_service_client = BlobServiceClient.from_connection_string(blob_connection_string)\n",
    "# container_client = blob_service_client.get_container_client(container_name)\n",
    "# blobs = container_client.list_blobs()\n",
    "\n",
    "# first_blob = next(blobs)\n",
    "# blob_url = container_client.get_blob_client(first_blob).url\n",
    "# print(f\"URL of the first blob: {blob_url}\")"
   ]
  },
  {
   "attachments": {},
   "cell_type": "markdown",
   "metadata": {},
   "source": [
    "# Connect your Blob Storage to a data source in Azure AI Search"
   ]
  },
  {
   "cell_type": "code",
   "execution_count": 26,
   "metadata": {},
   "outputs": [],
   "source": [
    "# # Create a data source \n",
    "# ds_client = SearchIndexerClient(service_endpoint, AzureKeyCredential(key))\n",
    "# container = SearchIndexerDataContainer(name=container_name)\n",
    "# data_source_connection = SearchIndexerDataSourceConnection(\n",
    "#     name=f\"{index_name}-blob\",\n",
    "#     type=\"azureblob\",\n",
    "#     connection_string=blob_connection_string,\n",
    "#     container=container,\n",
    "# )"
   ]
  },
  {
   "cell_type": "code",
   "execution_count": 7,
   "metadata": {},
   "outputs": [],
   "source": [
    "index_name=\"uk-en\""
   ]
  },
  {
   "cell_type": "code",
   "execution_count": 8,
   "metadata": {},
   "outputs": [],
   "source": [
    "from azure.search.documents.indexes.models import NativeBlobSoftDeleteDeletionDetectionPolicy"
   ]
  },
  {
   "cell_type": "code",
   "execution_count": 9,
   "metadata": {},
   "outputs": [
    {
     "name": "stdout",
     "output_type": "stream",
     "text": [
      "Data source 'uk-en-blob' created or updated\n"
     ]
    }
   ],
   "source": [
    "ds_client = SearchIndexerClient(service_endpoint, AzureKeyCredential(key))\n",
    "container = SearchIndexerDataContainer(name=\"documents\", query=\"data/GB/English\")\n",
    "data_deletion_policy = NativeBlobSoftDeleteDeletionDetectionPolicy(\n",
    "        odata_type=\"#Microsoft.Azure.Search.NativeBlobSoftDeleteDeletionDetectionPolicy\"\n",
    "    )\n",
    "data_source_connection = SearchIndexerDataSourceConnection(\n",
    "    name=f\"{index_name}-blob\",\n",
    "    type=\"azureblob\",\n",
    "    connection_string=blob_connection_string,\n",
    "    container=container,\n",
    "    dataDeletionDetectionPolicy=data_deletion_policy\n",
    ")\n",
    "data_source = ds_client.create_or_update_data_source_connection(data_source_connection)\n",
    "\n",
    "print(f\"Data source '{data_source.name}' created or updated\")"
   ]
  },
  {
   "attachments": {},
   "cell_type": "markdown",
   "metadata": {},
   "source": [
    "# Create a skillset\n",
    "\n",
    "Create a custom skill Azure Function which calls the Florence Vision API to generate image embeddings. See GetImageEmbeddings for details on the custom skill."
   ]
  },
  {
   "cell_type": "code",
   "execution_count": 2,
   "metadata": {},
   "outputs": [
    {
     "name": "stdout",
     "output_type": "stream",
     "text": [
      " upload-data-to-index created\n"
     ]
    }
   ],
   "source": [
    "# Create a skillset  \n",
    "skillset_name = \"upload-data-to-index\"\n",
    "skill_uri = \"https://lge-ai-prd-func.azurewebsites.net/aoai/api/upload_index\"\n",
    "\n",
    "# skill_uri = \"https://indexer0226.azurewebsites.net/api/upload_index\"\n",
    "# skillset_name = \"test-skillset\"  \n",
    "# skill_uri = \"https://testljyindexer.azurewebsites.net/api/upload_index\"\n",
    "  \n",
    "skill = WebApiSkill(\n",
    "    uri=skill_uri,  \n",
    "    inputs=[  \n",
    "        InputFieldMappingEntry(name=\"file_path\", source=\"/document/metadata_storage_path\"),  \n",
    "        InputFieldMappingEntry(name=\"recordId\", source=\"/document/metadata_storage_name\"),\n",
    "    ],  \n",
    "    outputs=[OutputFieldMappingEntry(name=\"type\", target_name=\"type\"),\n",
    "             OutputFieldMappingEntry(name=\"iso_cd\", target_name=\"iso_cd\"),\n",
    "             OutputFieldMappingEntry(name=\"language\", target_name=\"language\"),\n",
    "             OutputFieldMappingEntry(name=\"product_group_code\", target_name=\"product_group_code\"),\n",
    "             OutputFieldMappingEntry(name=\"product_code\", target_name=\"product_code\"),\n",
    "             OutputFieldMappingEntry(name=\"product_model_code\", target_name=\"product_model_code\"),\n",
    "             OutputFieldMappingEntry(name=\"data_id\", target_name=\"data_id\"),\n",
    "             OutputFieldMappingEntry(name=\"mapping_key\", target_name=\"mapping_key\"),\n",
    "             OutputFieldMappingEntry(name=\"chunk_num\", target_name=\"chunk_num\"),\n",
    "             OutputFieldMappingEntry(name=\"pages\", target_name=\"pages\"),\n",
    "             OutputFieldMappingEntry(name=\"url\", target_name=\"url\"),\n",
    "             OutputFieldMappingEntry(name=\"title\", target_name=\"title\"),\n",
    "             OutputFieldMappingEntry(name=\"main_text_vector\", target_name=\"main_text_vector\")],\n",
    "\n",
    "    timeout=\"PT1M30S\"\n",
    ")  \n",
    "  \n",
    "skillset = SearchIndexerSkillset(  \n",
    "    name=skillset_name,  \n",
    "    description=\"Skillset to extract text vector\",  \n",
    "    skills=[skill],  \n",
    ")  \n",
    "  \n",
    "client = SearchIndexerClient(service_endpoint, AzureKeyCredential(key))  \n",
    "client.create_or_update_skillset(skillset)  \n",
    "print(f' {skillset.name} created')  \n"
   ]
  },
  {
   "attachments": {},
   "cell_type": "markdown",
   "metadata": {},
   "source": [
    "## Create an index\n",
    "Create your search index schema and vector search configuration:"
   ]
  },
  {
   "cell_type": "code",
   "execution_count": 22,
   "metadata": {},
   "outputs": [],
   "source": [
    "skillset_name = \"upload-data-to-index\"\n",
    "# skillset_name = \"upload-data-to-index\"\n",
    "\n",
    "index_name = 'lv-lv'\n",
    "data_source = 'lv-lv-blob'\n",
    "directory_path = 'data/LV/Latvian/'"
   ]
  },
  {
   "cell_type": "code",
   "execution_count": 23,
   "metadata": {},
   "outputs": [
    {
     "name": "stdout",
     "output_type": "stream",
     "text": [
      "lv-lv created\n"
     ]
    }
   ],
   "source": [
    "# Create a search index  \n",
    "index_client = SearchIndexClient(endpoint=service_endpoint, credential=credential)  \n",
    "        # 필드명 정의\n",
    "fields = [SimpleField(name=\"id\", type=SearchFieldDataType.String, key=True, sortable=True, filterable=True, facetable=True),\n",
    "          SearchableField(name=\"type\", type=SearchFieldDataType.String, filterable=True, facetable=True),\n",
    "          SearchableField(name=\"iso_cd\", type=SearchFieldDataType.String, filterable=True, facetable=True),\n",
    "          SearchableField(name=\"language\", type=SearchFieldDataType.String, filterable=True, facetable=True),\n",
    "          SearchableField(name=\"product_group_code\", type=SearchFieldDataType.String, filterable=True, facetable=True),\n",
    "          SearchableField(name=\"product_code\", type=SearchFieldDataType.String, filterable=True, facetable=True),\n",
    "          SearchableField(name=\"product_model_code\", type=SearchFieldDataType.String, filterable=True, facetable=True),\n",
    "          SearchableField(name=\"data_id\", type=SearchFieldDataType.String, filterable=True, facetable=True),\n",
    "          SearchableField(name=\"mapping_key\", type=SearchFieldDataType.String, filterable=True, facetable=True),\n",
    "          SearchableField(name=\"chunk_num\", type=SearchFieldDataType.Int64, filterable=True, facetable=True),\n",
    "          SearchableField(name=\"file_name\", type=SearchFieldDataType.String, filterable=True, facetable=True),\n",
    "          SearchableField(name=\"pages\", type=SearchFieldDataType.String, filterable=True, facetable=True),\n",
    "          SearchableField(name=\"url\", type=SearchFieldDataType.String, filterable=True, facetable=True),\n",
    "          SearchableField(name=\"title\", type=SearchFieldDataType.String, filterable=True, facetable=True),\n",
    "          SearchableField(name=\"main_text_path\", type=SearchFieldDataType.String, filterable=True, facetable=True),\n",
    "          SearchField(name=\"main_text_vector\", type=SearchFieldDataType.Collection(SearchFieldDataType.Single),\n",
    "                            searchable=True, vector_search_dimensions=1536, vector_search_profile_name=\"myHnswProfile\")]\n",
    "  \n",
    "# 백터 서치 configuration ( HNSW, KNN 사용 가능 )\n",
    "vector_search = VectorSearch(\n",
    "    algorithms=[\n",
    "        HnswAlgorithmConfiguration(\n",
    "            name=\"myHnsw\",\n",
    "            kind=VectorSearchAlgorithmKind.HNSW,\n",
    "            parameters=HnswParameters(\n",
    "                m=4,\n",
    "                ef_construction=400,\n",
    "                ef_search=500,\n",
    "                metric=VectorSearchAlgorithmMetric.COSINE\n",
    "            )\n",
    "        ),\n",
    "        ExhaustiveKnnAlgorithmConfiguration(\n",
    "            name=\"myExhaustiveKnn\",\n",
    "            kind=VectorSearchAlgorithmKind.EXHAUSTIVE_KNN,\n",
    "            parameters=ExhaustiveKnnParameters(\n",
    "                metric=VectorSearchAlgorithmMetric.COSINE\n",
    "            )\n",
    "        )\n",
    "    ],\n",
    "    profiles=[\n",
    "        VectorSearchProfile(\n",
    "            name=\"myHnswProfile\",\n",
    "            algorithm_configuration_name=\"myHnsw\",\n",
    "        ),\n",
    "        VectorSearchProfile(\n",
    "            name=\"myExhaustiveKnnProfile\",\n",
    "            algorithm_configuration_name=\"myExhaustiveKnn\",\n",
    "        )\n",
    "    ]\n",
    ")\n",
    "  \n",
    "# Create the search index with the vector search configuration  \n",
    "index = SearchIndex(name=index_name, fields=fields, vector_search=vector_search)  \n",
    "result = index_client.create_or_update_index(index)  \n",
    "print(f\"{result.name} created\")  \n"
   ]
  },
  {
   "cell_type": "code",
   "execution_count": 24,
   "metadata": {},
   "outputs": [
    {
     "name": "stdout",
     "output_type": "stream",
     "text": [
      "Data source 'lv-lv-blob' created or updated successfully.\n"
     ]
    }
   ],
   "source": [
    "api_version = \"2023-11-01\"  \n",
    "\n",
    "data_source_connection_payload = {\n",
    "    \"name\": f\"{index_name}-blob\",\n",
    "    \"type\": \"azureblob\",\n",
    "    \"credentials\": {\n",
    "        \"connectionString\": blob_connection_string    \n",
    "    },\n",
    "    \"container\": {\n",
    "        \"name\": \"documents\",\n",
    "        \"query\": directory_path\n",
    "    },\n",
    "    \"dataChangeDetectionPolicy\": None,\n",
    "    \"dataDeletionDetectionPolicy\": {\n",
    "        \"@odata.type\": \"#Microsoft.Azure.Search.NativeBlobSoftDeleteDeletionDetectionPolicy\"\n",
    "    }\n",
    "}\n",
    "\n",
    "# HTTP 헤더 구성\n",
    "headers = {\n",
    "    \"Content-Type\": \"application/json\",\n",
    "    \"api-key\": key\n",
    "}\n",
    "\n",
    "# 데이터 소스 연결을 Azure Search에 생성 또는 업데이트\n",
    "response = requests.put(\n",
    "    f\"{service_endpoint}/datasources/{index_name}-blob?api-version={api_version}\",\n",
    "    headers=headers,\n",
    "    json=data_source_connection_payload\n",
    ")\n",
    "\n",
    "# 요청이 성공했는지 확인\n",
    "if response.status_code == 200 or response.status_code == 201 or response.status_code == 204:\n",
    "    print(f\"Data source '{data_source_connection_payload['name']}' created or updated successfully.\")\n",
    "else:\n",
    "    print(\"Failed to create or update data source. Response:\", response)"
   ]
  },
  {
   "attachments": {},
   "cell_type": "markdown",
   "metadata": {},
   "source": [
    "## Create an indexer\n",
    "\n",
    "Create or update an indexer to process images and populate the search index"
   ]
  },
  {
   "cell_type": "code",
   "execution_count": 25,
   "metadata": {},
   "outputs": [],
   "source": [
    "# Create an indexer  \n",
    "indexer_name = f\"{index_name}-indexer\"\n",
    "indexer = SearchIndexer(  \n",
    "    name=indexer_name,  \n",
    "    description=f\"{index_name} Indexer\",  \n",
    "    skillset_name=skillset_name,  \n",
    "    target_index_name=index_name,  \n",
    "    data_source_name=data_source,\n",
    "    parameters={\n",
    "        \"configuration\": {\n",
    "            \"executionEnvironment\": \"private\"\n",
    "        }\n",
    "    },\n",
    "    field_mappings=[\n",
    "        FieldMapping(source_field_name=\"metadata_storage_path\", target_field_name=\"main_text_path\"),  \n",
    "        FieldMapping(source_field_name=\"metadata_storage_name\", target_field_name=\"file_name\")  \n",
    "    ],  \n",
    "    output_field_mappings=[\n",
    "        FieldMapping(source_field_name=\"/document/type\", target_field_name=\"type\"),\n",
    "        FieldMapping(source_field_name=\"/document/iso_cd\", target_field_name=\"iso_cd\"),\n",
    "        FieldMapping(source_field_name=\"/document/language\", target_field_name=\"language\"),\n",
    "        FieldMapping(source_field_name=\"/document/product_group_code\", target_field_name=\"product_group_code\"),\n",
    "        FieldMapping(source_field_name=\"/document/product_code\", target_field_name=\"product_code\"),\n",
    "        FieldMapping(source_field_name=\"/document/product_model_code\", target_field_name=\"product_model_code\"),\n",
    "        FieldMapping(source_field_name=\"/document/data_id\", target_field_name=\"data_id\"),\n",
    "        FieldMapping(source_field_name=\"/document/mapping_key\", target_field_name=\"mapping_key\"),\n",
    "        FieldMapping(source_field_name=\"/document/chunk_num\", target_field_name=\"chunk_num\"),\n",
    "        FieldMapping(source_field_name=\"/document/pages\", target_field_name=\"pages\"),\n",
    "        FieldMapping(source_field_name=\"/document/url\", target_field_name=\"url\"),\n",
    "        FieldMapping(source_field_name=\"/document/title\", target_field_name=\"title\"),\n",
    "        FieldMapping(source_field_name=\"/document/main_text_vector\", target_field_name=\"main_text_vector\")  \n",
    "    ]  \n",
    ")  \n",
    "  \n",
    "indexer_client = SearchIndexerClient(service_endpoint, AzureKeyCredential(key))  \n",
    "indexer_result = indexer_client.create_or_update_indexer(indexer)  "
   ]
  },
  {
   "cell_type": "code",
   "execution_count": null,
   "metadata": {},
   "outputs": [],
   "source": []
  },
  {
   "cell_type": "code",
   "execution_count": 8,
   "metadata": {},
   "outputs": [],
   "source": [
    "indexer_name = 'ee-et-indexer'"
   ]
  },
  {
   "cell_type": "code",
   "execution_count": 9,
   "metadata": {},
   "outputs": [
    {
     "name": "stdout",
     "output_type": "stream",
     "text": [
      " pt-pt-indexer running\n"
     ]
    }
   ],
   "source": [
    "# Run the indexer\n",
    "indexer_client.run_indexer(indexer_name)\n",
    "print(f' {indexer_name} running')"
   ]
  },
  {
   "cell_type": "code",
   "execution_count": 10,
   "metadata": {},
   "outputs": [],
   "source": [
    "from ai_search import AISearch\n",
    "search_instance = AISearch()\n",
    "indexer_client = SearchIndexerClient(service_endpoint, AzureKeyCredential(key))  "
   ]
  },
  {
   "cell_type": "code",
   "execution_count": 11,
   "metadata": {},
   "outputs": [],
   "source": [
    "index_name='pt-pt'"
   ]
  },
  {
   "cell_type": "code",
   "execution_count": 12,
   "metadata": {},
   "outputs": [
    {
     "name": "stdout",
     "output_type": "stream",
     "text": [
      "인덱스 'pt-pt'의 문서 수: 0\n",
      "ㅁ num_documents : 0\n"
     ]
    },
    {
     "ename": "IndexError",
     "evalue": "list index out of range",
     "output_type": "error",
     "traceback": [
      "\u001b[1;31m---------------------------------------------------------------------------\u001b[0m",
      "\u001b[1;31mIndexError\u001b[0m                                Traceback (most recent call last)",
      "Cell \u001b[1;32mIn[12], line 3\u001b[0m\n\u001b[0;32m      1\u001b[0m status \u001b[38;5;241m=\u001b[39m indexer_client\u001b[38;5;241m.\u001b[39mget_indexer_status(name\u001b[38;5;241m=\u001b[39m\u001b[38;5;124mf\u001b[39m\u001b[38;5;124m\"\u001b[39m\u001b[38;5;132;01m{\u001b[39;00mindex_name\u001b[38;5;132;01m}\u001b[39;00m\u001b[38;5;124m-indexer\u001b[39m\u001b[38;5;124m\"\u001b[39m)\n\u001b[0;32m      2\u001b[0m \u001b[38;5;28mprint\u001b[39m(\u001b[38;5;124m\"\u001b[39m\u001b[38;5;124mㅁ num_documents :\u001b[39m\u001b[38;5;124m\"\u001b[39m,search_instance\u001b[38;5;241m.\u001b[39mget_num_documents(index_name\u001b[38;5;241m=\u001b[39mindex_name))\n\u001b[1;32m----> 3\u001b[0m \u001b[38;5;28mprint\u001b[39m(\u001b[38;5;124m\"\u001b[39m\u001b[38;5;124mㅁ status :\u001b[39m\u001b[38;5;124m\"\u001b[39m,\u001b[43mstatus\u001b[49m\u001b[38;5;241;43m.\u001b[39;49m\u001b[43mexecution_history\u001b[49m\u001b[43m[\u001b[49m\u001b[38;5;241;43m0\u001b[39;49m\u001b[43m]\u001b[49m\u001b[38;5;241m.\u001b[39mstatus)\n\u001b[0;32m      4\u001b[0m \u001b[38;5;28mprint\u001b[39m(\u001b[38;5;124m\"\u001b[39m\u001b[38;5;124mㅁ start_time :\u001b[39m\u001b[38;5;124m\"\u001b[39m,status\u001b[38;5;241m.\u001b[39mexecution_history[\u001b[38;5;241m0\u001b[39m]\u001b[38;5;241m.\u001b[39mstart_time)\n\u001b[0;32m      5\u001b[0m \u001b[38;5;28mprint\u001b[39m(\u001b[38;5;124m\"\u001b[39m\u001b[38;5;124mㅁ end_time :\u001b[39m\u001b[38;5;124m\"\u001b[39m,status\u001b[38;5;241m.\u001b[39mexecution_history[\u001b[38;5;241m0\u001b[39m]\u001b[38;5;241m.\u001b[39mend_time)\n",
      "\u001b[1;31mIndexError\u001b[0m: list index out of range"
     ]
    }
   ],
   "source": [
    "status = indexer_client.get_indexer_status(name=f\"{index_name}-indexer\")\n",
    "print(\"ㅁ num_documents :\",search_instance.get_num_documents(index_name=index_name))\n",
    "print(\"ㅁ status :\",status.execution_history[0].status)\n",
    "print(\"ㅁ start_time :\",status.execution_history[0].start_time)\n",
    "print(\"ㅁ end_time :\",status.execution_history[0].end_time)\n",
    "print(\"ㅁ item_count :\",status.execution_history[0].item_count)\n",
    "print(\"ㅁ failed_item_count :\",status.execution_history[0].failed_item_count)"
   ]
  },
  {
   "cell_type": "code",
   "execution_count": 15,
   "metadata": {},
   "outputs": [],
   "source": [
    "indexer_client = SearchIndexerClient(service_endpoint, AzureKeyCredential(key))  \n",
    "index_client = SearchIndexClient(endpoint=service_endpoint, credential=credential)  "
   ]
  },
  {
   "cell_type": "code",
   "execution_count": 16,
   "metadata": {},
   "outputs": [
    {
     "name": "stdout",
     "output_type": "stream",
     "text": [
      "\n",
      "ㅁIndexes\n",
      "['at-de', 'ch-de', 'ch-fr', 'de-de', 'dk-da', 'es-es', 'fi-fi', 'fr-fr', 'it-it', 'no-no', 'pl-pl', 'se-sv', 'uk-en']]\n",
      "\n",
      "\n",
      "ㅁSkillsets\n",
      "['upload-data-to-index']\n",
      "\n",
      "\n",
      "ㅁIndexers\n",
      "['at-de-indexer', 'ch-de-indexer', 'ch-fr-indexer', 'de-de-indexer', 'dk-da-indexer', 'es-es-indexer', 'fi-fi-indexer', 'fr-fr-indexer', 'it-it-indexer', 'no-no-indexer', 'pl-pl-indexer', 'se-sv-indexer', 'uk-en-indexer']\n",
      "\n",
      "\n",
      "ㅁDataSources\n",
      "['at-de-blob', 'ch-de-blob', 'ch-fr-blob', 'de-de-blob', 'dk-da-blob', 'es-es-blob', 'es-es-new-blob', 'fi-fi-blob', 'fr-fr-blob', 'it-it-blob', 'no-no-blob', 'pl-pl-blob', 'se-sv-blob', 'uk-en-blob']\n",
      "\n"
     ]
    }
   ],
   "source": [
    "print(f\"\\nㅁIndexes\\n{[index for index in index_client.list_index_names()]}]\\n\")\n",
    "print(f\"\\nㅁSkillsets\\n{indexer_client.get_skillset_names()}\\n\")\n",
    "print(f\"\\nㅁIndexers\\n{indexer_client.get_indexer_names()}\\n\")\n",
    "print(f\"\\nㅁDataSources\\n{indexer_client.get_data_source_connection_names()}\\n\")"
   ]
  },
  {
   "cell_type": "code",
   "execution_count": null,
   "metadata": {},
   "outputs": [],
   "source": [
    "result = search_instance.get_documents(index_name='de-de', type='mapping_key',mapping_key='')"
   ]
  },
  {
   "cell_type": "code",
   "execution_count": null,
   "metadata": {},
   "outputs": [],
   "source": []
  },
  {
   "cell_type": "code",
   "execution_count": null,
   "metadata": {},
   "outputs": [],
   "source": [
    "indexer_client = SearchIndexerClient(service_endpoint, AzureKeyCredential(key))  \n",
    "indexer_result = indexer_client.create_or_update_indexer(indexer)  "
   ]
  }
 ],
 "metadata": {
  "kernelspec": {
   "display_name": "Python 3",
   "language": "python",
   "name": "python3"
  },
  "language_info": {
   "codemirror_mode": {
    "name": "ipython",
    "version": 3
   },
   "file_extension": ".py",
   "mimetype": "text/x-python",
   "name": "python",
   "nbconvert_exporter": "python",
   "pygments_lexer": "ipython3",
   "version": "3.8.18"
  },
  "orig_nbformat": 4
 },
 "nbformat": 4,
 "nbformat_minor": 2
}
